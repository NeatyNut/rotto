{
 "cells": [
  {
   "cell_type": "markdown",
   "id": "b5c6e816",
   "metadata": {},
   "source": [
    "- 소프트 맥스"
   ]
  },
  {
   "cell_type": "code",
   "execution_count": 1,
   "id": "f5cb14e6",
   "metadata": {},
   "outputs": [
    {
     "data": {
      "text/html": [
       "<div>\n",
       "<style scoped>\n",
       "    .dataframe tbody tr th:only-of-type {\n",
       "        vertical-align: middle;\n",
       "    }\n",
       "\n",
       "    .dataframe tbody tr th {\n",
       "        vertical-align: top;\n",
       "    }\n",
       "\n",
       "    .dataframe thead th {\n",
       "        text-align: right;\n",
       "    }\n",
       "</style>\n",
       "<table border=\"1\" class=\"dataframe\">\n",
       "  <thead>\n",
       "    <tr style=\"text-align: right;\">\n",
       "      <th></th>\n",
       "      <th>1</th>\n",
       "      <th>2</th>\n",
       "      <th>3</th>\n",
       "      <th>4</th>\n",
       "      <th>5</th>\n",
       "      <th>6</th>\n",
       "      <th>7</th>\n",
       "    </tr>\n",
       "  </thead>\n",
       "  <tbody>\n",
       "    <tr>\n",
       "      <th>0</th>\n",
       "      <td>10</td>\n",
       "      <td>23</td>\n",
       "      <td>29</td>\n",
       "      <td>33</td>\n",
       "      <td>37</td>\n",
       "      <td>40</td>\n",
       "      <td>16</td>\n",
       "    </tr>\n",
       "    <tr>\n",
       "      <th>1</th>\n",
       "      <td>9</td>\n",
       "      <td>13</td>\n",
       "      <td>21</td>\n",
       "      <td>25</td>\n",
       "      <td>32</td>\n",
       "      <td>42</td>\n",
       "      <td>2</td>\n",
       "    </tr>\n",
       "    <tr>\n",
       "      <th>2</th>\n",
       "      <td>11</td>\n",
       "      <td>16</td>\n",
       "      <td>19</td>\n",
       "      <td>21</td>\n",
       "      <td>27</td>\n",
       "      <td>31</td>\n",
       "      <td>30</td>\n",
       "    </tr>\n",
       "    <tr>\n",
       "      <th>3</th>\n",
       "      <td>14</td>\n",
       "      <td>27</td>\n",
       "      <td>30</td>\n",
       "      <td>31</td>\n",
       "      <td>40</td>\n",
       "      <td>42</td>\n",
       "      <td>2</td>\n",
       "    </tr>\n",
       "    <tr>\n",
       "      <th>4</th>\n",
       "      <td>16</td>\n",
       "      <td>24</td>\n",
       "      <td>29</td>\n",
       "      <td>40</td>\n",
       "      <td>41</td>\n",
       "      <td>42</td>\n",
       "      <td>3</td>\n",
       "    </tr>\n",
       "    <tr>\n",
       "      <th>...</th>\n",
       "      <td>...</td>\n",
       "      <td>...</td>\n",
       "      <td>...</td>\n",
       "      <td>...</td>\n",
       "      <td>...</td>\n",
       "      <td>...</td>\n",
       "      <td>...</td>\n",
       "    </tr>\n",
       "    <tr>\n",
       "      <th>1189</th>\n",
       "      <td>1</td>\n",
       "      <td>4</td>\n",
       "      <td>11</td>\n",
       "      <td>12</td>\n",
       "      <td>20</td>\n",
       "      <td>41</td>\n",
       "      <td>2</td>\n",
       "    </tr>\n",
       "    <tr>\n",
       "      <th>1190</th>\n",
       "      <td>10</td>\n",
       "      <td>16</td>\n",
       "      <td>23</td>\n",
       "      <td>36</td>\n",
       "      <td>39</td>\n",
       "      <td>40</td>\n",
       "      <td>11</td>\n",
       "    </tr>\n",
       "    <tr>\n",
       "      <th>1191</th>\n",
       "      <td>6</td>\n",
       "      <td>9</td>\n",
       "      <td>16</td>\n",
       "      <td>19</td>\n",
       "      <td>24</td>\n",
       "      <td>28</td>\n",
       "      <td>17</td>\n",
       "    </tr>\n",
       "    <tr>\n",
       "      <th>1192</th>\n",
       "      <td>3</td>\n",
       "      <td>13</td>\n",
       "      <td>15</td>\n",
       "      <td>24</td>\n",
       "      <td>33</td>\n",
       "      <td>37</td>\n",
       "      <td>2</td>\n",
       "    </tr>\n",
       "    <tr>\n",
       "      <th>1193</th>\n",
       "      <td>3</td>\n",
       "      <td>15</td>\n",
       "      <td>27</td>\n",
       "      <td>33</td>\n",
       "      <td>34</td>\n",
       "      <td>36</td>\n",
       "      <td>37</td>\n",
       "    </tr>\n",
       "  </tbody>\n",
       "</table>\n",
       "<p>1194 rows × 7 columns</p>\n",
       "</div>"
      ],
      "text/plain": [
       "       1   2   3   4   5   6   7\n",
       "0     10  23  29  33  37  40  16\n",
       "1      9  13  21  25  32  42   2\n",
       "2     11  16  19  21  27  31  30\n",
       "3     14  27  30  31  40  42   2\n",
       "4     16  24  29  40  41  42   3\n",
       "...   ..  ..  ..  ..  ..  ..  ..\n",
       "1189   1   4  11  12  20  41   2\n",
       "1190  10  16  23  36  39  40  11\n",
       "1191   6   9  16  19  24  28  17\n",
       "1192   3  13  15  24  33  37   2\n",
       "1193   3  15  27  33  34  36  37\n",
       "\n",
       "[1194 rows x 7 columns]"
      ]
     },
     "execution_count": 1,
     "metadata": {},
     "output_type": "execute_result"
    }
   ],
   "source": [
    "import pandas as pd\n",
    "import numpy as np\n",
    "import os\n",
    "\n",
    "df = pd.read_csv('rotto.csv')\n",
    "df"
   ]
  },
  {
   "cell_type": "code",
   "execution_count": 2,
   "id": "23ff56e3",
   "metadata": {},
   "outputs": [],
   "source": [
    "before = []\n",
    "result = []\n",
    "\n",
    "for i in range(len(df)-450):\n",
    "    before.append(df.iloc[0+i:450+i])\n",
    "#    result.append(df.iloc[450+i])\n",
    "     \n",
    "    one_result = np.zeros(45)\n",
    "    for j in df.iloc[450+i]:\n",
    "        one_result[j-1] = 1\n",
    "    result.append(one_result)\n",
    "\n",
    "# 배치\n",
    "before = np.array(before)\n",
    "result = np.array(result)\n",
    "\n",
    "# 스케일링\n",
    "before = (before-1)/44\n",
    "# result = (result-1)/44\n",
    "before = before.reshape(-1,450,7,1)"
   ]
  },
  {
   "cell_type": "code",
   "execution_count": 3,
   "id": "7718c20f",
   "metadata": {},
   "outputs": [
    {
     "data": {
      "text/plain": [
       "array([[[0.20454545],\n",
       "        [0.5       ],\n",
       "        [0.63636364],\n",
       "        ...,\n",
       "        [0.81818182],\n",
       "        [0.88636364],\n",
       "        [0.34090909]],\n",
       "\n",
       "       [[0.18181818],\n",
       "        [0.27272727],\n",
       "        [0.45454545],\n",
       "        ...,\n",
       "        [0.70454545],\n",
       "        [0.93181818],\n",
       "        [0.02272727]],\n",
       "\n",
       "       [[0.22727273],\n",
       "        [0.34090909],\n",
       "        [0.40909091],\n",
       "        ...,\n",
       "        [0.59090909],\n",
       "        [0.68181818],\n",
       "        [0.65909091]],\n",
       "\n",
       "       ...,\n",
       "\n",
       "       [[0.04545455],\n",
       "        [0.13636364],\n",
       "        [0.27272727],\n",
       "        ...,\n",
       "        [0.88636364],\n",
       "        [0.90909091],\n",
       "        [0.79545455]],\n",
       "\n",
       "       [[0.04545455],\n",
       "        [0.20454545],\n",
       "        [0.43181818],\n",
       "        ...,\n",
       "        [0.77272727],\n",
       "        [0.95454545],\n",
       "        [0.79545455]],\n",
       "\n",
       "       [[0.11363636],\n",
       "        [0.29545455],\n",
       "        [0.40909091],\n",
       "        ...,\n",
       "        [0.5       ],\n",
       "        [0.68181818],\n",
       "        [0.27272727]]])"
      ]
     },
     "execution_count": 3,
     "metadata": {},
     "output_type": "execute_result"
    }
   ],
   "source": [
    "before[0]"
   ]
  },
  {
   "cell_type": "code",
   "execution_count": 4,
   "id": "cc799b0d",
   "metadata": {},
   "outputs": [
    {
     "data": {
      "text/plain": [
       "array([[0., 0., 0., ..., 0., 0., 0.],\n",
       "       [0., 0., 0., ..., 0., 0., 0.],\n",
       "       [0., 0., 0., ..., 0., 0., 0.],\n",
       "       ...,\n",
       "       [0., 0., 0., ..., 0., 0., 0.],\n",
       "       [0., 1., 1., ..., 0., 0., 0.],\n",
       "       [0., 0., 1., ..., 0., 0., 0.]])"
      ]
     },
     "execution_count": 4,
     "metadata": {},
     "output_type": "execute_result"
    }
   ],
   "source": [
    "result"
   ]
  },
  {
   "cell_type": "code",
   "execution_count": 5,
   "id": "38880b47",
   "metadata": {},
   "outputs": [],
   "source": [
    "from sklearn.model_selection import train_test_split\n",
    "\n",
    "x_train, x_test, y_train, y_test = train_test_split(before, result, test_size=0.2)"
   ]
  },
  {
   "cell_type": "code",
   "execution_count": 6,
   "id": "67741ef1",
   "metadata": {},
   "outputs": [
    {
     "data": {
      "text/plain": [
       "(595, 45)"
      ]
     },
     "execution_count": 6,
     "metadata": {},
     "output_type": "execute_result"
    }
   ],
   "source": [
    "y_train.shape"
   ]
  },
  {
   "cell_type": "code",
   "execution_count": 7,
   "id": "515121f8",
   "metadata": {},
   "outputs": [
    {
     "name": "stderr",
     "output_type": "stream",
     "text": [
      "2025-11-01 09:52:18.568371: I tensorflow/tsl/cuda/cudart_stub.cc:28] Could not find cuda drivers on your machine, GPU will not be used.\n",
      "2025-11-01 09:52:19.304136: E tensorflow/compiler/xla/stream_executor/cuda/cuda_dnn.cc:9342] Unable to register cuDNN factory: Attempting to register factory for plugin cuDNN when one has already been registered\n",
      "2025-11-01 09:52:19.304280: E tensorflow/compiler/xla/stream_executor/cuda/cuda_fft.cc:609] Unable to register cuFFT factory: Attempting to register factory for plugin cuFFT when one has already been registered\n",
      "2025-11-01 09:52:19.309023: E tensorflow/compiler/xla/stream_executor/cuda/cuda_blas.cc:1518] Unable to register cuBLAS factory: Attempting to register factory for plugin cuBLAS when one has already been registered\n",
      "2025-11-01 09:52:19.680592: I tensorflow/tsl/cuda/cudart_stub.cc:28] Could not find cuda drivers on your machine, GPU will not be used.\n",
      "2025-11-01 09:52:19.684082: I tensorflow/core/platform/cpu_feature_guard.cc:182] This TensorFlow binary is optimized to use available CPU instructions in performance-critical operations.\n",
      "To enable the following instructions: AVX2 FMA, in other operations, rebuild TensorFlow with the appropriate compiler flags.\n",
      "2025-11-01 09:52:23.293906: W tensorflow/compiler/tf2tensorrt/utils/py_utils.cc:38] TF-TRT Warning: Could not find TensorRT\n"
     ]
    },
    {
     "name": "stdout",
     "output_type": "stream",
     "text": [
      "Model: \"sequential\"\n",
      "_________________________________________________________________\n",
      " Layer (type)                Output Shape              Param #   \n",
      "=================================================================\n",
      " conv2d (Conv2D)             (None, 450, 7, 128)       1280      \n",
      "                                                                 \n",
      " conv2d_1 (Conv2D)           (None, 450, 7, 32)        102432    \n",
      "                                                                 \n",
      " max_pooling2d (MaxPooling2  (None, 64, 1, 32)         0         \n",
      " D)                                                              \n",
      "                                                                 \n",
      " batch_normalization (Batch  (None, 64, 1, 32)         128       \n",
      " Normalization)                                                  \n",
      "                                                                 \n",
      " dropout (Dropout)           (None, 64, 1, 32)         0         \n",
      "                                                                 \n",
      " global_average_pooling2d (  (None, 32)                0         \n",
      " GlobalAveragePooling2D)                                         \n",
      "                                                                 \n",
      " reshape (Reshape)           (None, 32, 1)             0         \n",
      "                                                                 \n",
      " lstm (LSTM)                 (None, 32, 45)            8460      \n",
      "                                                                 \n",
      " reshape_1 (Reshape)         (None, 1440)              0         \n",
      "                                                                 \n",
      " dropout_1 (Dropout)         (None, 1440)              0         \n",
      "                                                                 \n",
      " dense (Dense)               (None, 45)                64845     \n",
      "                                                                 \n",
      "=================================================================\n",
      "Total params: 177145 (691.97 KB)\n",
      "Trainable params: 177081 (691.72 KB)\n",
      "Non-trainable params: 64 (256.00 Byte)\n",
      "_________________________________________________________________\n"
     ]
    }
   ],
   "source": [
    "import tensorflow as tf\n",
    "\n",
    "model = tf.keras.models.Sequential()\n",
    "model.add(tf.keras.layers.Conv2D(128, kernel_size=(3,3), padding=\"same\", input_shape=x_train.shape[1:], activation='relu'))\n",
    "model.add(tf.keras.layers.Conv2D(32, kernel_size=(5,5), padding=\"same\", activation='relu'))\n",
    "model.add(tf.keras.layers.MaxPool2D(7))\n",
    "model.add(tf.keras.layers.BatchNormalization())\n",
    "model.add(tf.keras.layers.Dropout(0.3))\n",
    "model.add(tf.keras.layers.GlobalAveragePooling2D())\n",
    "model.add(tf.keras.layers.Reshape(target_shape=(32,1)))\n",
    "model.add(tf.keras.layers.LSTM(units = 45,\n",
    "                               return_sequences = True,\n",
    "                               input_shape = (32, 1),\n",
    "                               activation = 'tanh'\n",
    "))\n",
    "model.add(tf.keras.layers.Reshape(target_shape=(32*45,)))\n",
    "model.add(tf.keras.layers.Dropout(0.3))\n",
    "model.add(tf.keras.layers.Dense(45, activation='sigmoid'))\n",
    "model.summary()"
   ]
  },
  {
   "cell_type": "code",
   "execution_count": 8,
   "id": "11c79996",
   "metadata": {},
   "outputs": [],
   "source": [
    "# RMSE 정의\n",
    "def root_mean_squared_error(y_true, y_pred):\n",
    "    return tf.sqrt(tf.reduce_mean(tf.square(y_true - y_pred)))\n",
    "\n",
    "# model.compile(optimizer=tf.keras.optimizers.Adam(), loss=tf.keras.losses.CategoricalCrossentropy(), metrics=[root_mean_squared_error])\n",
    "model.compile(optimizer=tf.keras.optimizers.Adam(), loss=tf.keras.losses.BinaryCrossentropy(from_logits=False), metrics=[root_mean_squared_error])"
   ]
  },
  {
   "cell_type": "code",
   "execution_count": 9,
   "id": "0263efb8",
   "metadata": {},
   "outputs": [],
   "source": [
    "earlystop = tf.keras.callbacks.EarlyStopping(monitor='val_loss', patience=10, restore_best_weights=True)"
   ]
  },
  {
   "cell_type": "code",
   "execution_count": 10,
   "id": "30142427",
   "metadata": {},
   "outputs": [
    {
     "name": "stdout",
     "output_type": "stream",
     "text": [
      "Epoch 1/30\n",
      "68/68 [==============================] - 23s 264ms/step - loss: 0.4931 - root_mean_squared_error: 0.3933 - val_loss: 0.4402 - val_root_mean_squared_error: 0.3659\n",
      "Epoch 2/30\n",
      "68/68 [==============================] - 17s 246ms/step - loss: 0.4350 - root_mean_squared_error: 0.3635 - val_loss: 0.4377 - val_root_mean_squared_error: 0.3646\n",
      "Epoch 3/30\n",
      "68/68 [==============================] - 16s 240ms/step - loss: 0.4340 - root_mean_squared_error: 0.3631 - val_loss: 0.4358 - val_root_mean_squared_error: 0.3637\n",
      "Epoch 4/30\n",
      "68/68 [==============================] - 17s 247ms/step - loss: 0.4335 - root_mean_squared_error: 0.3629 - val_loss: 0.4365 - val_root_mean_squared_error: 0.3640\n",
      "Epoch 5/30\n",
      "68/68 [==============================] - 16s 239ms/step - loss: 0.4332 - root_mean_squared_error: 0.3628 - val_loss: 0.4486 - val_root_mean_squared_error: 0.3684\n",
      "Epoch 6/30\n",
      "68/68 [==============================] - 16s 242ms/step - loss: 0.4325 - root_mean_squared_error: 0.3625 - val_loss: 0.4803 - val_root_mean_squared_error: 0.3805\n",
      "Epoch 7/30\n",
      "68/68 [==============================] - 20s 294ms/step - loss: 0.4323 - root_mean_squared_error: 0.3625 - val_loss: 0.5021 - val_root_mean_squared_error: 0.3858\n",
      "Epoch 8/30\n",
      "68/68 [==============================] - 18s 266ms/step - loss: 0.4326 - root_mean_squared_error: 0.3626 - val_loss: 0.5097 - val_root_mean_squared_error: 0.3893\n",
      "Epoch 9/30\n",
      "68/68 [==============================] - 16s 241ms/step - loss: 0.4320 - root_mean_squared_error: 0.3624 - val_loss: 0.5574 - val_root_mean_squared_error: 0.3843\n",
      "Epoch 10/30\n",
      "68/68 [==============================] - 16s 237ms/step - loss: 0.4322 - root_mean_squared_error: 0.3624 - val_loss: 0.6104 - val_root_mean_squared_error: 0.3999\n",
      "Epoch 11/30\n",
      "68/68 [==============================] - 16s 241ms/step - loss: 0.4319 - root_mean_squared_error: 0.3623 - val_loss: 0.5458 - val_root_mean_squared_error: 0.3914\n",
      "Epoch 12/30\n",
      "68/68 [==============================] - 17s 245ms/step - loss: 0.4316 - root_mean_squared_error: 0.3622 - val_loss: 0.5238 - val_root_mean_squared_error: 0.3928\n",
      "Epoch 13/30\n",
      "68/68 [==============================] - 17s 244ms/step - loss: 0.4316 - root_mean_squared_error: 0.3622 - val_loss: 0.4739 - val_root_mean_squared_error: 0.3756\n"
     ]
    }
   ],
   "source": [
    "history = model.fit(x_train, y_train, batch_size=7, epochs=30, validation_split=0.2, callbacks=earlystop)\n",
    "# history = model.fit(x_train, y_train, batch_size=7, epochs=30, validation_split=0.2)"
   ]
  },
  {
   "cell_type": "code",
   "execution_count": 11,
   "id": "5b527a6a",
   "metadata": {},
   "outputs": [
    {
     "data": {
      "image/png": "[encoded data removed]",
      "text/plain": [
       "<Figure size 640x480 with 1 Axes>"
      ]
     },
     "metadata": {},
     "output_type": "display_data"
    }
   ],
   "source": [
    "import matplotlib.pyplot as plt\n",
    "\n",
    "plt.plot(history.history['loss'], label='train')\n",
    "plt.plot(history.history['val_loss'], label='val')\n",
    "plt.legend()\n",
    "plt.show()"
   ]
  },
  {
   "cell_type": "code",
   "execution_count": 12,
   "id": "03b04e16",
   "metadata": {},
   "outputs": [
    {
     "name": "stdout",
     "output_type": "stream",
     "text": [
      "5/5 [==============================] - 2s 109ms/step - loss: 0.4331 - root_mean_squared_error: 0.3628\n"
     ]
    },
    {
     "data": {
      "text/plain": [
       "[0.4331105351448059, 0.3628322184085846]"
      ]
     },
     "execution_count": 12,
     "metadata": {},
     "output_type": "execute_result"
    }
   ],
   "source": [
    "model.evaluate(x_test, y_test)"
   ]
  },
  {
   "cell_type": "code",
   "execution_count": 13,
   "id": "58b60698",
   "metadata": {},
   "outputs": [],
   "source": [
    "# 비교하고 싶은 순서\n",
    "i = -1"
   ]
  },
  {
   "cell_type": "code",
   "execution_count": 14,
   "id": "630dd893",
   "metadata": {},
   "outputs": [
    {
     "data": {
      "text/plain": [
       "Index([3, 15, 27, 33, 34, 36, 37], dtype='int64')"
      ]
     },
     "execution_count": 14,
     "metadata": {},
     "output_type": "execute_result"
    }
   ],
   "source": [
    "y_real = pd.DataFrame(result[i])\n",
    "y_real[y_real[0] == 1].index + 1"
   ]
  },
  {
   "cell_type": "code",
   "execution_count": 15,
   "id": "d3d14bab",
   "metadata": {},
   "outputs": [
    {
     "name": "stdout",
     "output_type": "stream",
     "text": [
      "1/1 [==============================] - 1s 998ms/step\n"
     ]
    }
   ],
   "source": [
    "y_pred = model.predict(np.array(before[i]).reshape(1,-1,7,1))"
   ]
  },
  {
   "cell_type": "code",
   "execution_count": 16,
   "id": "aa2f10dc",
   "metadata": {},
   "outputs": [
    {
     "data": {
      "text/plain": [
       "0     0.145300\n",
       "1     0.184858\n",
       "2     0.195417\n",
       "3     0.160982\n",
       "4     0.143722\n",
       "5     0.177446\n",
       "6     0.190997\n",
       "7     0.131934\n",
       "8     0.150697\n",
       "9     0.118670\n",
       "10    0.178776\n",
       "11    0.203758\n",
       "12    0.211885\n",
       "13    0.200887\n",
       "14    0.169587\n",
       "15    0.163072\n",
       "16    0.166670\n",
       "17    0.175548\n",
       "18    0.137432\n",
       "19    0.143111\n",
       "20    0.134545\n",
       "21    0.159616\n",
       "22    0.122887\n",
       "23    0.179038\n",
       "24    0.118851\n",
       "25    0.148423\n",
       "26    0.170446\n",
       "27    0.131552\n",
       "28    0.154287\n",
       "29    0.173417\n",
       "30    0.175368\n",
       "31    0.176755\n",
       "32    0.191132\n",
       "33    0.166883\n",
       "34    0.195749\n",
       "35    0.158964\n",
       "36    0.158277\n",
       "37    0.167684\n",
       "38    0.130847\n",
       "39    0.174337\n",
       "40    0.149261\n",
       "41    0.158538\n",
       "42    0.166753\n",
       "43    0.182747\n",
       "44    0.164856\n",
       "dtype: float32"
      ]
     },
     "execution_count": 16,
     "metadata": {},
     "output_type": "execute_result"
    }
   ],
   "source": [
    "pred = pd.Series(y_pred.reshape(-1))\n",
    "pred"
   ]
  },
  {
   "cell_type": "code",
   "execution_count": 17,
   "id": "830ba275",
   "metadata": {},
   "outputs": [
    {
     "data": {
      "text/plain": [
       "Index([3, 12, 13, 14, 33, 35], dtype='int64')"
      ]
     },
     "execution_count": 17,
     "metadata": {},
     "output_type": "execute_result"
    }
   ],
   "source": [
    "pred = pd.Series(y_pred.reshape(-1))\n",
    "(pred.sort_values(ascending=False).index + 1)[:6].sort_values()"
   ]
  },
  {
   "cell_type": "code",
   "execution_count": 18,
   "id": "b50df5f8",
   "metadata": {},
   "outputs": [
    {
     "name": "stdout",
     "output_type": "stream",
     "text": [
      "1/1 [==============================] - 1s 845ms/step\n"
     ]
    },
    {
     "data": {
      "text/plain": [
       "Index([3, 12, 17, 22, 40, 44], dtype='int64')"
      ]
     },
     "execution_count": 18,
     "metadata": {},
     "output_type": "execute_result"
    }
   ],
   "source": [
    "real_pred = model.predict(np.array(df[-450:]).reshape(1,-1,7,1))\n",
    "real_pred = pd.Series(real_pred.reshape(-1))\n",
    "(real_pred.sort_values(ascending=False).index + 1)[:6].sort_values()"
   ]
  },
  {
   "cell_type": "code",
   "execution_count": 19,
   "id": "3ec2ffaa",
   "metadata": {},
   "outputs": [
    {
     "data": {
      "text/plain": [
       "Index([3, 12, 14, 17, 22, 40], dtype='int64')"
      ]
     },
     "execution_count": 19,
     "metadata": {},
     "output_type": "execute_result"
    }
   ],
   "source": [
    "random_pred = real_pred + np.random.rand(45)/10\n",
    "(random_pred.sort_values(ascending=False).index + 1)[:6].sort_values()"
   ]
  },
  {
   "cell_type": "code",
   "execution_count": 20,
   "id": "65cb7faa",
   "metadata": {},
   "outputs": [
    {
     "data": {
      "text/plain": [
       "Index([3, 14, 18, 22, 32, 44], dtype='int64')"
      ]
     },
     "execution_count": 20,
     "metadata": {},
     "output_type": "execute_result"
    }
   ],
   "source": [
    "random_pred = real_pred + np.random.rand(45)/5\n",
    "(random_pred.sort_values(ascending=False).index + 1)[:6].sort_values()"
   ]
  },
  {
   "cell_type": "code",
   "execution_count": 21,
   "id": "c9e2a2f8",
   "metadata": {},
   "outputs": [
    {
     "data": {
      "text/plain": [
       "Index([8, 11, 12, 22, 31, 45], dtype='int64')"
      ]
     },
     "execution_count": 21,
     "metadata": {},
     "output_type": "execute_result"
    }
   ],
   "source": [
    "random_pred = real_pred + np.random.rand(45)\n",
    "(random_pred.sort_values(ascending=False).index + 1)[:6].sort_values()"
   ]
  },
  {
   "cell_type": "code",
   "execution_count": null,
   "id": "2354b3df",
   "metadata": {},
   "outputs": [],
   "source": []
  },
  {
   "cell_type": "markdown",
   "id": "b65ecbcf",
   "metadata": {},
   "source": [
    "- 시그모이드"
   ]
  },
  {
   "cell_type": "code",
   "execution_count": 34,
   "id": "b9166323",
   "metadata": {},
   "outputs": [
    {
     "data": {
      "text/html": [
       "<div>\n",
       "<style scoped>\n",
       "    .dataframe tbody tr th:only-of-type {\n",
       "        vertical-align: middle;\n",
       "    }\n",
       "\n",
       "    .dataframe tbody tr th {\n",
       "        vertical-align: top;\n",
       "    }\n",
       "\n",
       "    .dataframe thead th {\n",
       "        text-align: right;\n",
       "    }\n",
       "</style>\n",
       "<table border=\"1\" class=\"dataframe\">\n",
       "  <thead>\n",
       "    <tr style=\"text-align: right;\">\n",
       "      <th></th>\n",
       "      <th>1</th>\n",
       "      <th>2</th>\n",
       "      <th>3</th>\n",
       "      <th>4</th>\n",
       "      <th>5</th>\n",
       "      <th>6</th>\n",
       "      <th>7</th>\n",
       "    </tr>\n",
       "  </thead>\n",
       "  <tbody>\n",
       "    <tr>\n",
       "      <th>0</th>\n",
       "      <td>10</td>\n",
       "      <td>23</td>\n",
       "      <td>29</td>\n",
       "      <td>33</td>\n",
       "      <td>37</td>\n",
       "      <td>40</td>\n",
       "      <td>16</td>\n",
       "    </tr>\n",
       "    <tr>\n",
       "      <th>1</th>\n",
       "      <td>9</td>\n",
       "      <td>13</td>\n",
       "      <td>21</td>\n",
       "      <td>25</td>\n",
       "      <td>32</td>\n",
       "      <td>42</td>\n",
       "      <td>2</td>\n",
       "    </tr>\n",
       "    <tr>\n",
       "      <th>2</th>\n",
       "      <td>11</td>\n",
       "      <td>16</td>\n",
       "      <td>19</td>\n",
       "      <td>21</td>\n",
       "      <td>27</td>\n",
       "      <td>31</td>\n",
       "      <td>30</td>\n",
       "    </tr>\n",
       "    <tr>\n",
       "      <th>3</th>\n",
       "      <td>14</td>\n",
       "      <td>27</td>\n",
       "      <td>30</td>\n",
       "      <td>31</td>\n",
       "      <td>40</td>\n",
       "      <td>42</td>\n",
       "      <td>2</td>\n",
       "    </tr>\n",
       "    <tr>\n",
       "      <th>4</th>\n",
       "      <td>16</td>\n",
       "      <td>24</td>\n",
       "      <td>29</td>\n",
       "      <td>40</td>\n",
       "      <td>41</td>\n",
       "      <td>42</td>\n",
       "      <td>3</td>\n",
       "    </tr>\n",
       "    <tr>\n",
       "      <th>...</th>\n",
       "      <td>...</td>\n",
       "      <td>...</td>\n",
       "      <td>...</td>\n",
       "      <td>...</td>\n",
       "      <td>...</td>\n",
       "      <td>...</td>\n",
       "      <td>...</td>\n",
       "    </tr>\n",
       "    <tr>\n",
       "      <th>1162</th>\n",
       "      <td>2</td>\n",
       "      <td>13</td>\n",
       "      <td>15</td>\n",
       "      <td>16</td>\n",
       "      <td>33</td>\n",
       "      <td>43</td>\n",
       "      <td>4</td>\n",
       "    </tr>\n",
       "    <tr>\n",
       "      <th>1163</th>\n",
       "      <td>17</td>\n",
       "      <td>18</td>\n",
       "      <td>23</td>\n",
       "      <td>25</td>\n",
       "      <td>38</td>\n",
       "      <td>39</td>\n",
       "      <td>22</td>\n",
       "    </tr>\n",
       "    <tr>\n",
       "      <th>1164</th>\n",
       "      <td>6</td>\n",
       "      <td>7</td>\n",
       "      <td>27</td>\n",
       "      <td>29</td>\n",
       "      <td>38</td>\n",
       "      <td>45</td>\n",
       "      <td>17</td>\n",
       "    </tr>\n",
       "    <tr>\n",
       "      <th>1165</th>\n",
       "      <td>14</td>\n",
       "      <td>23</td>\n",
       "      <td>25</td>\n",
       "      <td>27</td>\n",
       "      <td>29</td>\n",
       "      <td>42</td>\n",
       "      <td>16</td>\n",
       "    </tr>\n",
       "    <tr>\n",
       "      <th>1166</th>\n",
       "      <td>8</td>\n",
       "      <td>23</td>\n",
       "      <td>31</td>\n",
       "      <td>35</td>\n",
       "      <td>39</td>\n",
       "      <td>40</td>\n",
       "      <td>24</td>\n",
       "    </tr>\n",
       "  </tbody>\n",
       "</table>\n",
       "<p>1167 rows × 7 columns</p>\n",
       "</div>"
      ],
      "text/plain": [
       "       1   2   3   4   5   6   7\n",
       "0     10  23  29  33  37  40  16\n",
       "1      9  13  21  25  32  42   2\n",
       "2     11  16  19  21  27  31  30\n",
       "3     14  27  30  31  40  42   2\n",
       "4     16  24  29  40  41  42   3\n",
       "...   ..  ..  ..  ..  ..  ..  ..\n",
       "1162   2  13  15  16  33  43   4\n",
       "1163  17  18  23  25  38  39  22\n",
       "1164   6   7  27  29  38  45  17\n",
       "1165  14  23  25  27  29  42  16\n",
       "1166   8  23  31  35  39  40  24\n",
       "\n",
       "[1167 rows x 7 columns]"
      ]
     },
     "execution_count": 34,
     "metadata": {},
     "output_type": "execute_result"
    }
   ],
   "source": [
    "import pandas as pd\n",
    "import numpy as np\n",
    "import os\n",
    "\n",
    "df = pd.read_csv(os.path.join('./data',os.listdir('data')[1]))\n",
    "df"
   ]
  },
  {
   "cell_type": "code",
   "execution_count": 35,
   "id": "5e15e400",
   "metadata": {},
   "outputs": [],
   "source": [
    "before = []\n",
    "result = []\n",
    "\n",
    "for i in range(len(df)-450):\n",
    "    before.append(df.iloc[0+i:450+i])\n",
    "    result.append(df.iloc[450+i])\n",
    "\n",
    "# 배치\n",
    "before = np.array(before)\n",
    "result = np.array(result)\n",
    "\n",
    "# 스케일링\n",
    "before = (before-1)/44\n",
    "result = (result-1)/44\n",
    "before = before.reshape(-1,450,7,1)"
   ]
  },
  {
   "cell_type": "code",
   "execution_count": 36,
   "id": "3f42ab6a",
   "metadata": {},
   "outputs": [],
   "source": [
    "from sklearn.model_selection import train_test_split\n",
    "\n",
    "x_train, x_test, y_train, y_test = train_test_split(before, result, test_size=0.2)"
   ]
  },
  {
   "cell_type": "code",
   "execution_count": 37,
   "id": "b7229132",
   "metadata": {},
   "outputs": [
    {
     "data": {
      "text/plain": [
       "(573, 7)"
      ]
     },
     "execution_count": 37,
     "metadata": {},
     "output_type": "execute_result"
    }
   ],
   "source": [
    "y_train.shape"
   ]
  },
  {
   "cell_type": "code",
   "execution_count": 38,
   "id": "9beb6a56",
   "metadata": {},
   "outputs": [
    {
     "name": "stdout",
     "output_type": "stream",
     "text": [
      "Model: \"sequential_1\"\n",
      "_________________________________________________________________\n",
      " Layer (type)                Output Shape              Param #   \n",
      "=================================================================\n",
      " conv2d_2 (Conv2D)           (None, 450, 7, 128)       1280      \n",
      "                                                                 \n",
      " conv2d_3 (Conv2D)           (None, 450, 7, 32)        102432    \n",
      "                                                                 \n",
      " max_pooling2d_1 (MaxPoolin  (None, 64, 1, 32)         0         \n",
      " g2D)                                                            \n",
      "                                                                 \n",
      " batch_normalization_1 (Bat  (None, 64, 1, 32)         128       \n",
      " chNormalization)                                                \n",
      "                                                                 \n",
      " dropout_2 (Dropout)         (None, 64, 1, 32)         0         \n",
      "                                                                 \n",
      " global_average_pooling2d_1  (None, 32)                0         \n",
      "  (GlobalAveragePooling2D)                                       \n",
      "                                                                 \n",
      " reshape_2 (Reshape)         (None, 32, 1)             0         \n",
      "                                                                 \n",
      " lstm_1 (LSTM)               (None, 45)                8460      \n",
      "                                                                 \n",
      " dense_1 (Dense)             (None, 7)                 322       \n",
      "                                                                 \n",
      "=================================================================\n",
      "Total params: 112622 (439.93 KB)\n",
      "Trainable params: 112558 (439.68 KB)\n",
      "Non-trainable params: 64 (256.00 Byte)\n",
      "_________________________________________________________________\n"
     ]
    }
   ],
   "source": [
    "import tensorflow as tf\n",
    "\n",
    "model = tf.keras.models.Sequential()\n",
    "model.add(tf.keras.layers.Conv2D(128, kernel_size=(3,3), padding=\"same\", input_shape=x_train.shape[1:], activation='relu'))\n",
    "model.add(tf.keras.layers.Conv2D(32, kernel_size=(5,5), padding=\"same\", activation='relu'))\n",
    "model.add(tf.keras.layers.MaxPool2D(7))\n",
    "model.add(tf.keras.layers.BatchNormalization())\n",
    "model.add(tf.keras.layers.Dropout(0.3))\n",
    "model.add(tf.keras.layers.GlobalAveragePooling2D())\n",
    "model.add(tf.keras.layers.Reshape(target_shape=(32,1)))\n",
    "model.add(tf.keras.layers.LSTM(units = 45,\n",
    "                               return_sequences = False,\n",
    "                               input_shape = (32, 1),\n",
    "                               activation = 'tanh'\n",
    "))\n",
    "# model.add(tf.keras.layers.Reshape(target_shape=(32*45,)))\n",
    "# model.add(tf.keras.layers.Dropout(0.3))\n",
    "model.add(tf.keras.layers.Dense(7, activation='sigmoid'))\n",
    "model.summary()"
   ]
  },
  {
   "cell_type": "code",
   "execution_count": 39,
   "id": "bf06ce93",
   "metadata": {},
   "outputs": [],
   "source": [
    "model.compile(optimizer=tf.keras.optimizers.Adam(), loss=tf.keras.losses.MeanSquaredError(), metrics=[tf.keras.metrics.MeanAbsoluteError()])"
   ]
  },
  {
   "cell_type": "code",
   "execution_count": 40,
   "id": "67ef0d5a",
   "metadata": {},
   "outputs": [],
   "source": [
    "earlystop = tf.keras.callbacks.EarlyStopping(monitor='val_loss', patience=5, restore_best_weights=True)"
   ]
  },
  {
   "cell_type": "code",
   "execution_count": 41,
   "id": "19964e8d",
   "metadata": {},
   "outputs": [
    {
     "name": "stdout",
     "output_type": "stream",
     "text": [
      "Epoch 1/30\n",
      "66/66 [==============================] - 13s 105ms/step - loss: 0.0457 - mean_absolute_error: 0.1704 - val_loss: 0.0326 - val_mean_absolute_error: 0.1415\n",
      "Epoch 2/30\n",
      "66/66 [==============================] - 6s 85ms/step - loss: 0.0311 - mean_absolute_error: 0.1380 - val_loss: 0.0325 - val_mean_absolute_error: 0.1427\n",
      "Epoch 3/30\n",
      "66/66 [==============================] - 5s 82ms/step - loss: 0.0313 - mean_absolute_error: 0.1386 - val_loss: 0.0330 - val_mean_absolute_error: 0.1426\n",
      "Epoch 4/30\n",
      "66/66 [==============================] - 5s 83ms/step - loss: 0.0314 - mean_absolute_error: 0.1387 - val_loss: 0.0325 - val_mean_absolute_error: 0.1430\n",
      "Epoch 5/30\n",
      "66/66 [==============================] - 5s 82ms/step - loss: 0.0312 - mean_absolute_error: 0.1381 - val_loss: 0.0326 - val_mean_absolute_error: 0.1420\n",
      "Epoch 6/30\n",
      "66/66 [==============================] - 5s 82ms/step - loss: 0.0314 - mean_absolute_error: 0.1387 - val_loss: 0.0325 - val_mean_absolute_error: 0.1423\n",
      "Epoch 7/30\n",
      "66/66 [==============================] - 5s 82ms/step - loss: 0.0311 - mean_absolute_error: 0.1379 - val_loss: 0.0334 - val_mean_absolute_error: 0.1440\n"
     ]
    }
   ],
   "source": [
    "history = model.fit(x_train, y_train, batch_size=7, epochs=30, validation_split=0.2, callbacks=earlystop)"
   ]
  },
  {
   "cell_type": "code",
   "execution_count": 42,
   "id": "c5292832",
   "metadata": {},
   "outputs": [
    {
     "data": {
      "image/png": "[encoded data removed]",
      "text/plain": [
       "<Figure size 640x480 with 1 Axes>"
      ]
     },
     "metadata": {},
     "output_type": "display_data"
    }
   ],
   "source": [
    "import matplotlib.pyplot as plt\n",
    "\n",
    "plt.plot(history.history['loss'], label='train')\n",
    "plt.plot(history.history['val_loss'], label='val')\n",
    "plt.legend()\n",
    "plt.show()"
   ]
  },
  {
   "cell_type": "code",
   "execution_count": 43,
   "id": "1da5e246",
   "metadata": {},
   "outputs": [
    {
     "name": "stdout",
     "output_type": "stream",
     "text": [
      "5/5 [==============================] - 0s 80ms/step - loss: 0.0316 - mean_absolute_error: 0.1435\n"
     ]
    },
    {
     "data": {
      "text/plain": [
       "[0.03162856772542, 0.14347580075263977]"
      ]
     },
     "execution_count": 43,
     "metadata": {},
     "output_type": "execute_result"
    }
   ],
   "source": [
    "model.evaluate(x_test, y_test)"
   ]
  },
  {
   "cell_type": "code",
   "execution_count": 44,
   "id": "d2dfba74",
   "metadata": {},
   "outputs": [],
   "source": [
    "# 비교하고 싶은 순서\n",
    "i = -1"
   ]
  },
  {
   "cell_type": "code",
   "execution_count": 23,
   "id": "4c1dcf5b",
   "metadata": {},
   "outputs": [
    {
     "data": {
      "text/plain": [
       "array([ 1.,  1.,  1.,  1.,  1.,  1.,  1.,  1.,  1.,  1.,  1.,  1.,  1.,\n",
       "       45.,  1., 45.,  1.,  1., 45., 45.,  1.,  1.,  1.,  1.,  1.,  1.,\n",
       "        1.,  1., 45.,  1.,  1.,  1.,  1., 45., 45.,  1.,  1.,  1.,  1.,\n",
       "        1.,  1.,  1.,  1.,  1.,  1.])"
      ]
     },
     "execution_count": 23,
     "metadata": {},
     "output_type": "execute_result"
    }
   ],
   "source": [
    "result[i]*44+1"
   ]
  },
  {
   "cell_type": "code",
   "execution_count": 24,
   "id": "0ac7ab38",
   "metadata": {},
   "outputs": [
    {
     "name": "stdout",
     "output_type": "stream",
     "text": [
      "1/1 [==============================] - 1s 712ms/step\n"
     ]
    }
   ],
   "source": [
    "pred = model.predict(before[i].reshape(1,-1,7,1))"
   ]
  },
  {
   "cell_type": "code",
   "execution_count": 25,
   "id": "7cba6ef1",
   "metadata": {},
   "outputs": [
    {
     "data": {
      "text/plain": [
       "array([[1, 1, 2, 1, 1, 1, 2, 1, 1, 1, 1, 2, 1, 1, 2, 2, 1, 1, 2, 2, 1, 1,\n",
       "        1, 1, 1, 1, 2, 2, 1, 1, 2, 1, 1, 1, 1, 1, 1, 1, 1, 2, 1, 2, 2, 1,\n",
       "        1]])"
      ]
     },
     "execution_count": 25,
     "metadata": {},
     "output_type": "execute_result"
    }
   ],
   "source": [
    "(pred*44+1).astype(int)"
   ]
  },
  {
   "cell_type": "code",
   "execution_count": 45,
   "id": "8037e64f",
   "metadata": {},
   "outputs": [
    {
     "name": "stdout",
     "output_type": "stream",
     "text": [
      "1/1 [==============================] - 1s 1s/step\n"
     ]
    }
   ],
   "source": [
    "real_before = df[-450:]\n",
    "real_pred = model.predict(((np.array(real_before)-1)/44).reshape(1,-1,7,1))"
   ]
  },
  {
   "cell_type": "code",
   "execution_count": 46,
   "id": "13e5b449",
   "metadata": {},
   "outputs": [
    {
     "data": {
      "text/plain": [
       "array([[ 7.306196, 14.140724, 21.386414, 26.4983  , 33.544006, 39.240566,\n",
       "        22.24389 ]], dtype=float32)"
      ]
     },
     "execution_count": 46,
     "metadata": {},
     "output_type": "execute_result"
    }
   ],
   "source": [
    "real_pred*44+1"
   ]
  },
  {
   "cell_type": "code",
   "execution_count": 47,
   "id": "e943ddc2",
   "metadata": {},
   "outputs": [
    {
     "data": {
      "text/plain": [
       "array([[ 7, 14, 21, 26, 33, 39, 22]])"
      ]
     },
     "execution_count": 47,
     "metadata": {},
     "output_type": "execute_result"
    }
   ],
   "source": [
    "(real_pred*44+1).astype(int)"
   ]
  },
  {
   "cell_type": "markdown",
   "id": "e2e4dc77",
   "metadata": {},
   "source": [
    "- LSTM + Sigmoid"
   ]
  },
  {
   "cell_type": "code",
   "execution_count": 235,
   "id": "0a272242",
   "metadata": {},
   "outputs": [
    {
     "data": {
      "text/plain": [
       "array([[10., 23., 29., ..., 37., 40., 16.],\n",
       "       [ 9., 13., 21., ..., 32., 42.,  2.],\n",
       "       [11., 16., 19., ..., 27., 31., 30.],\n",
       "       ...,\n",
       "       [ 6., 16., 34., ..., 39., 40., 11.],\n",
       "       [ 1.,  3.,  4., ..., 42., 45., 36.],\n",
       "       [ 6., 14., 30., ..., 40., 41., 29.]])"
      ]
     },
     "execution_count": 235,
     "metadata": {},
     "output_type": "execute_result"
    }
   ],
   "source": [
    "import numpy as np\n",
    "import os\n",
    "\n",
    "df = np.loadtxt(os.path.join('./data',os.listdir('data')[1]), delimiter=\",\")\n",
    "df = df[1:]\n",
    "df"
   ]
  },
  {
   "cell_type": "code",
   "execution_count": 257,
   "id": "caf8fd2b",
   "metadata": {},
   "outputs": [],
   "source": [
    "import numpy as np\n",
    "\n",
    "batch = 450\n",
    "encoder_input = [] # batch회 묶음 # x\n",
    "decoder_input=[]  # y\n",
    "decoder_target=[]  # y\n",
    "\n",
    "for i in range(df.shape[0]-batch):\n",
    "    x_batch = df[i:batch+i]\n",
    "    y_batch = df[batch+i]\n",
    "    y_batch = y_batch + 2 ## 시작, 종료 1, 2\n",
    "\n",
    "    x_batch = x_batch.reshape(-1)\n",
    "    x_batch = x_batch + 2 ## 시작, 종료 1, 2\n",
    "    encoder_input.append(x_batch)\n",
    "    decoder_input.append(np.insert(y_batch, 0, 1))\n",
    "    decoder_target.append(np.append(y_batch, 2))\n",
    "\n",
    "encoder_input = np.array(encoder_input)\n",
    "decoder_input = np.array(decoder_input)\n",
    "decoder_target = np.array(decoder_target)"
   ]
  },
  {
   "cell_type": "code",
   "execution_count": 258,
   "id": "8b1f899a",
   "metadata": {},
   "outputs": [],
   "source": [
    "encoder_input = encoder_input.astype(int)\n",
    "decoder_input = decoder_input.astype(int)\n",
    "decoder_target = decoder_target.astype(int)"
   ]
  },
  {
   "cell_type": "code",
   "execution_count": 259,
   "id": "32fca3e3",
   "metadata": {},
   "outputs": [
    {
     "name": "stdout",
     "output_type": "stream",
     "text": [
      "(657, 3150)\n",
      "(657, 8)\n",
      "(657, 8)\n"
     ]
    }
   ],
   "source": [
    "print(encoder_input.shape)\n",
    "print(decoder_input.shape)\n",
    "print(decoder_target.shape)"
   ]
  },
  {
   "cell_type": "code",
   "execution_count": 260,
   "id": "5619a5fd",
   "metadata": {},
   "outputs": [
    {
     "name": "stdout",
     "output_type": "stream",
     "text": [
      "훈련 데이터의 개수 : 526\n",
      "훈련 레이블의 개수 : 526\n",
      "테스트 데이터의 개수 : 131\n",
      "테스트 레이블의 개수 : 131\n"
     ]
    }
   ],
   "source": [
    "n_of_val = int(len(encoder_input)*0.2)\n",
    "\n",
    "encoder_input_train = encoder_input[:-n_of_val]\n",
    "decoder_input_train = decoder_input[:-n_of_val]\n",
    "decoder_target_train = decoder_target[:-n_of_val]\n",
    "\n",
    "encoder_input_test = encoder_input[-n_of_val:]\n",
    "decoder_input_test = decoder_input[-n_of_val:]\n",
    "decoder_target_test = decoder_target[-n_of_val:]\n",
    "\n",
    "print('훈련 데이터의 개수 :', len(encoder_input_train))\n",
    "print('훈련 레이블의 개수 :', len(decoder_input_train))\n",
    "print('테스트 데이터의 개수 :', len(encoder_input_test))\n",
    "print('테스트 레이블의 개수 :', len(decoder_input_test))"
   ]
  },
  {
   "cell_type": "code",
   "execution_count": 295,
   "id": "a2c4b4db",
   "metadata": {},
   "outputs": [],
   "source": [
    "from tensorflow.keras.layers import Input, LSTM, Embedding, Dense, Concatenate, TimeDistributed\n",
    "from tensorflow.keras.models import Model\n",
    "from tensorflow.keras.callbacks import EarlyStopping, ModelCheckpoint\n",
    "\n",
    "# 인코더 설계 시작\n",
    "embedding_dim = 47\n",
    "hidden_size = 8\n",
    "\n",
    "# 인코더\n",
    "encoder_inputs = Input(shape=(x_train.shape[-1],))\n",
    "\n",
    "# 인코더의 임베딩 층\n",
    "enc_emb = Embedding(45, embedding_dim)(encoder_inputs)\n",
    "\n",
    "## 인코더의 LSTM 단층\n",
    "# encoder_lstm = LSTM(hidden_size, return_sequences=True, return_state=True ,dropout = 0.4, recurrent_dropout=0.2)\n",
    "# encoder_outputs, state_h, state_c = encoder_lstm(enc_emb)\n",
    "\n",
    "# 인코더의 LSTM 1\n",
    "encoder_lstm1 = LSTM(hidden_size, return_sequences=True, return_state=True ,dropout = 0.4, recurrent_dropout = 0.4)\n",
    "encoder_output1, state_h1, state_c1 = encoder_lstm1(enc_emb)\n",
    "\n",
    "# 인코더의 LSTM 2\n",
    "encoder_lstm2 = LSTM(hidden_size, return_sequences=True, return_state=True, dropout=0.4, recurrent_dropout=0.4)\n",
    "encoder_output2, state_h2, state_c2 = encoder_lstm2(encoder_output1)\n",
    "\n",
    "# 인코더의 LSTM 3\n",
    "encoder_lstm3 = LSTM(hidden_size, return_state=True, return_sequences=True, dropout=0.4, recurrent_dropout=0.4)\n",
    "encoder_outputs, state_h, state_c= encoder_lstm3(encoder_output2)"
   ]
  },
  {
   "cell_type": "code",
   "execution_count": 296,
   "id": "a4578e2a",
   "metadata": {},
   "outputs": [],
   "source": [
    "# 디코더 설계\n",
    "decoder_inputs = Input(shape=(None,))\n",
    "\n",
    "# 디코더의 임베딩 층\n",
    "dec_emb_layer = Embedding(47, embedding_dim)\n",
    "dec_emb = dec_emb_layer(decoder_inputs)\n",
    "\n",
    "# 디코더의 LSTM\n",
    "# decoder_lstm = LSTM(hidden_size, return_sequences=True, return_state=True, dropout=0.4, recurrent_dropout=0.2)\n",
    "decoder_lstm = LSTM(hidden_size, return_sequences=True, return_state=True, dropout=0.4, recurrent_dropout=0.2)\n",
    "decoder_outputs, _, _ = decoder_lstm(dec_emb, initial_state=[state_h, state_c])"
   ]
  },
  {
   "cell_type": "code",
   "execution_count": 298,
   "id": "66f7a962",
   "metadata": {},
   "outputs": [
    {
     "name": "stdout",
     "output_type": "stream",
     "text": [
      "Model: \"model_22\"\n",
      "__________________________________________________________________________________________________\n",
      " Layer (type)                Output Shape                 Param #   Connected to                  \n",
      "==================================================================================================\n",
      " input_30 (InputLayer)       [(None, 3150)]               0         []                            \n",
      "                                                                                                  \n",
      " embedding_29 (Embedding)    (None, 3150, 47)             2115      ['input_30[0][0]']            \n",
      "                                                                                                  \n",
      " lstm_57 (LSTM)              [(None, 3150, 8),            1792      ['embedding_29[0][0]']        \n",
      "                              (None, 8),                                                          \n",
      "                              (None, 8)]                                                          \n",
      "                                                                                                  \n",
      " input_31 (InputLayer)       [(None, None)]               0         []                            \n",
      "                                                                                                  \n",
      " lstm_58 (LSTM)              [(None, 3150, 8),            544       ['lstm_57[0][0]']             \n",
      "                              (None, 8),                                                          \n",
      "                              (None, 8)]                                                          \n",
      "                                                                                                  \n",
      " embedding_30 (Embedding)    (None, None, 47)             2209      ['input_31[0][0]']            \n",
      "                                                                                                  \n",
      " lstm_59 (LSTM)              [(None, 3150, 8),            544       ['lstm_58[0][0]']             \n",
      "                              (None, 8),                                                          \n",
      "                              (None, 8)]                                                          \n",
      "                                                                                                  \n",
      " lstm_60 (LSTM)              [(None, None, 8),            1792      ['embedding_30[0][0]',        \n",
      "                              (None, 8),                             'lstm_59[0][1]',             \n",
      "                              (None, 8)]                             'lstm_59[0][2]']             \n",
      "                                                                                                  \n",
      " dense_27 (Dense)            (None, None, 47)             423       ['lstm_60[0][0]']             \n",
      "                                                                                                  \n",
      "==================================================================================================\n",
      "Total params: 9419 (36.79 KB)\n",
      "Trainable params: 9419 (36.79 KB)\n",
      "Non-trainable params: 0 (0.00 Byte)\n",
      "__________________________________________________________________________________________________\n"
     ]
    }
   ],
   "source": [
    "# 디코더의 출력층\n",
    "decoder_softmax_layer = Dense(47, activation='softmax')\n",
    "decoder_softmax_outputs = decoder_softmax_layer(decoder_outputs)\n",
    "\n",
    "# 모델 정의\n",
    "model = Model([encoder_inputs, decoder_inputs], decoder_softmax_outputs)\n",
    "model.summary()"
   ]
  },
  {
   "cell_type": "code",
   "execution_count": 308,
   "id": "e38e8c4b",
   "metadata": {},
   "outputs": [
    {
     "name": "stdout",
     "output_type": "stream",
     "text": [
      "Model: \"model_24\"\n",
      "__________________________________________________________________________________________________\n",
      " Layer (type)                Output Shape                 Param #   Connected to                  \n",
      "==================================================================================================\n",
      " input_30 (InputLayer)       [(None, 3150)]               0         []                            \n",
      "                                                                                                  \n",
      " embedding_29 (Embedding)    (None, 3150, 47)             2115      ['input_30[0][0]']            \n",
      "                                                                                                  \n",
      " lstm_57 (LSTM)              [(None, 3150, 8),            1792      ['embedding_29[0][0]']        \n",
      "                              (None, 8),                                                          \n",
      "                              (None, 8)]                                                          \n",
      "                                                                                                  \n",
      " input_31 (InputLayer)       [(None, None)]               0         []                            \n",
      "                                                                                                  \n",
      " lstm_58 (LSTM)              [(None, 3150, 8),            544       ['lstm_57[0][0]']             \n",
      "                              (None, 8),                                                          \n",
      "                              (None, 8)]                                                          \n",
      "                                                                                                  \n",
      " embedding_30 (Embedding)    (None, None, 47)             2209      ['input_31[0][0]']            \n",
      "                                                                                                  \n",
      " lstm_59 (LSTM)              [(None, 3150, 8),            544       ['lstm_58[0][0]']             \n",
      "                              (None, 8),                                                          \n",
      "                              (None, 8)]                                                          \n",
      "                                                                                                  \n",
      " lstm_60 (LSTM)              [(None, None, 8),            1792      ['embedding_30[0][0]',        \n",
      "                              (None, 8),                             'lstm_59[0][1]',             \n",
      "                              (None, 8)]                             'lstm_59[0][2]']             \n",
      "                                                                                                  \n",
      " attention_layer (AdditiveA  (None, None, 8)              8         ['lstm_60[0][0]',             \n",
      " ttention)                                                           'lstm_59[0][0]']             \n",
      "                                                                                                  \n",
      " concat_layer (Concatenate)  (None, None, 16)             0         ['lstm_60[0][0]',             \n",
      "                                                                     'attention_layer[0][0]']     \n",
      "                                                                                                  \n",
      " dense_29 (Dense)            (None, None, 47)             799       ['concat_layer[0][0]']        \n",
      "                                                                                                  \n",
      "==================================================================================================\n",
      "Total params: 9803 (38.29 KB)\n",
      "Trainable params: 9803 (38.29 KB)\n",
      "Non-trainable params: 0 (0.00 Byte)\n",
      "__________________________________________________________________________________________________\n"
     ]
    }
   ],
   "source": [
    "from tensorflow.keras.layers import AdditiveAttention\n",
    "\n",
    "# 어텐션 층(어텐션 함수)\n",
    "attn_layer = AdditiveAttention(name='attention_layer')\n",
    "\n",
    "# 인코더와 디코더의 모든 time step의 hidden state를 어텐션 층에 전달하고 결과를 리턴\n",
    "attn_out = attn_layer([decoder_outputs, encoder_outputs])\n",
    "\n",
    "\n",
    "# 어텐션의 결과와 디코더의 hidden state들을 연결\n",
    "decoder_concat_input = Concatenate(axis=-1, name='concat_layer')([decoder_outputs, attn_out])\n",
    "\n",
    "# 디코더의 출력층\n",
    "decoder_softmax_layer = Dense(47, activation='softmax')\n",
    "decoder_softmax_outputs = decoder_softmax_layer(decoder_concat_input)\n",
    "\n",
    "# 모델 정의\n",
    "model = Model([encoder_inputs, decoder_inputs], decoder_softmax_outputs)\n",
    "model.summary()"
   ]
  },
  {
   "cell_type": "code",
   "execution_count": 301,
   "id": "b8ebb323",
   "metadata": {},
   "outputs": [
    {
     "data": {
      "text/plain": [
       "(526, 3150)"
      ]
     },
     "execution_count": 301,
     "metadata": {},
     "output_type": "execute_result"
    }
   ],
   "source": [
    "encoder_input_train.shape"
   ]
  },
  {
   "cell_type": "code",
   "execution_count": 309,
   "id": "1ce5daca",
   "metadata": {},
   "outputs": [
    {
     "name": "stdout",
     "output_type": "stream",
     "text": [
      "Epoch 1/15\n"
     ]
    },
    {
     "ename": "InvalidArgumentError",
     "evalue": "Graph execution error:\n\nDetected at node model_24/embedding_30/embedding_lookup defined at (most recent call last):\n  File \"<frozen runpy>\", line 198, in _run_module_as_main\n\n  File \"<frozen runpy>\", line 88, in _run_code\n\n  File \"C:\\Users\\Kimmingee\\anaconda3\\Lib\\site-packages\\ipykernel_launcher.py\", line 17, in <module>\n\n  File \"C:\\Users\\Kimmingee\\anaconda3\\Lib\\site-packages\\traitlets\\config\\application.py\", line 992, in launch_instance\n\n  File \"C:\\Users\\Kimmingee\\anaconda3\\Lib\\site-packages\\ipykernel\\kernelapp.py\", line 736, in start\n\n  File \"C:\\Users\\Kimmingee\\anaconda3\\Lib\\site-packages\\tornado\\platform\\asyncio.py\", line 195, in start\n\n  File \"C:\\Users\\Kimmingee\\anaconda3\\Lib\\asyncio\\base_events.py\", line 607, in run_forever\n\n  File \"C:\\Users\\Kimmingee\\anaconda3\\Lib\\asyncio\\base_events.py\", line 1922, in _run_once\n\n  File \"C:\\Users\\Kimmingee\\anaconda3\\Lib\\asyncio\\events.py\", line 80, in _run\n\n  File \"C:\\Users\\Kimmingee\\anaconda3\\Lib\\site-packages\\ipykernel\\kernelbase.py\", line 516, in dispatch_queue\n\n  File \"C:\\Users\\Kimmingee\\anaconda3\\Lib\\site-packages\\ipykernel\\kernelbase.py\", line 505, in process_one\n\n  File \"C:\\Users\\Kimmingee\\anaconda3\\Lib\\site-packages\\ipykernel\\kernelbase.py\", line 412, in dispatch_shell\n\n  File \"C:\\Users\\Kimmingee\\anaconda3\\Lib\\site-packages\\ipykernel\\kernelbase.py\", line 740, in execute_request\n\n  File \"C:\\Users\\Kimmingee\\anaconda3\\Lib\\site-packages\\ipykernel\\ipkernel.py\", line 422, in do_execute\n\n  File \"C:\\Users\\Kimmingee\\anaconda3\\Lib\\site-packages\\ipykernel\\zmqshell.py\", line 546, in run_cell\n\n  File \"C:\\Users\\Kimmingee\\anaconda3\\Lib\\site-packages\\IPython\\core\\interactiveshell.py\", line 3024, in run_cell\n\n  File \"C:\\Users\\Kimmingee\\anaconda3\\Lib\\site-packages\\IPython\\core\\interactiveshell.py\", line 3079, in _run_cell\n\n  File \"C:\\Users\\Kimmingee\\anaconda3\\Lib\\site-packages\\IPython\\core\\async_helpers.py\", line 129, in _pseudo_sync_runner\n\n  File \"C:\\Users\\Kimmingee\\anaconda3\\Lib\\site-packages\\IPython\\core\\interactiveshell.py\", line 3284, in run_cell_async\n\n  File \"C:\\Users\\Kimmingee\\anaconda3\\Lib\\site-packages\\IPython\\core\\interactiveshell.py\", line 3466, in run_ast_nodes\n\n  File \"C:\\Users\\Kimmingee\\anaconda3\\Lib\\site-packages\\IPython\\core\\interactiveshell.py\", line 3526, in run_code\n\n  File \"C:\\Users\\Kimmingee\\AppData\\Local\\Temp\\ipykernel_3216\\120047783.py\", line 3, in <module>\n\n  File \"C:\\Users\\Kimmingee\\anaconda3\\Lib\\site-packages\\keras\\src\\utils\\traceback_utils.py\", line 65, in error_handler\n\n  File \"C:\\Users\\Kimmingee\\anaconda3\\Lib\\site-packages\\keras\\src\\engine\\training.py\", line 1807, in fit\n\n  File \"C:\\Users\\Kimmingee\\anaconda3\\Lib\\site-packages\\keras\\src\\engine\\training.py\", line 1401, in train_function\n\n  File \"C:\\Users\\Kimmingee\\anaconda3\\Lib\\site-packages\\keras\\src\\engine\\training.py\", line 1384, in step_function\n\n  File \"C:\\Users\\Kimmingee\\anaconda3\\Lib\\site-packages\\keras\\src\\engine\\training.py\", line 1373, in run_step\n\n  File \"C:\\Users\\Kimmingee\\anaconda3\\Lib\\site-packages\\keras\\src\\engine\\training.py\", line 1150, in train_step\n\n  File \"C:\\Users\\Kimmingee\\anaconda3\\Lib\\site-packages\\keras\\src\\utils\\traceback_utils.py\", line 65, in error_handler\n\n  File \"C:\\Users\\Kimmingee\\anaconda3\\Lib\\site-packages\\keras\\src\\engine\\training.py\", line 590, in __call__\n\n  File \"C:\\Users\\Kimmingee\\anaconda3\\Lib\\site-packages\\keras\\src\\utils\\traceback_utils.py\", line 65, in error_handler\n\n  File \"C:\\Users\\Kimmingee\\anaconda3\\Lib\\site-packages\\keras\\src\\engine\\base_layer.py\", line 1149, in __call__\n\n  File \"C:\\Users\\Kimmingee\\anaconda3\\Lib\\site-packages\\keras\\src\\utils\\traceback_utils.py\", line 96, in error_handler\n\n  File \"C:\\Users\\Kimmingee\\anaconda3\\Lib\\site-packages\\keras\\src\\engine\\functional.py\", line 515, in call\n\n  File \"C:\\Users\\Kimmingee\\anaconda3\\Lib\\site-packages\\keras\\src\\engine\\functional.py\", line 672, in _run_internal_graph\n\n  File \"C:\\Users\\Kimmingee\\anaconda3\\Lib\\site-packages\\keras\\src\\utils\\traceback_utils.py\", line 65, in error_handler\n\n  File \"C:\\Users\\Kimmingee\\anaconda3\\Lib\\site-packages\\keras\\src\\engine\\base_layer.py\", line 1149, in __call__\n\n  File \"C:\\Users\\Kimmingee\\anaconda3\\Lib\\site-packages\\keras\\src\\utils\\traceback_utils.py\", line 96, in error_handler\n\n  File \"C:\\Users\\Kimmingee\\anaconda3\\Lib\\site-packages\\keras\\src\\layers\\core\\embedding.py\", line 272, in call\n\nindices[3,6] = 47 is not in [0, 47)\n\t [[{{node model_24/embedding_30/embedding_lookup}}]] [Op:__inference_train_function_161262]",
     "output_type": "error",
     "traceback": [
      "\u001b[1;31m---------------------------------------------------------------------------\u001b[0m",
      "\u001b[1;31mInvalidArgumentError\u001b[0m                      Traceback (most recent call last)",
      "Cell \u001b[1;32mIn[309], line 3\u001b[0m\n\u001b[0;32m      1\u001b[0m model\u001b[38;5;241m.\u001b[39mcompile(optimizer\u001b[38;5;241m=\u001b[39m\u001b[38;5;124m'\u001b[39m\u001b[38;5;124madam\u001b[39m\u001b[38;5;124m'\u001b[39m, loss\u001b[38;5;241m=\u001b[39m\u001b[38;5;124m'\u001b[39m\u001b[38;5;124msparse_categorical_crossentropy\u001b[39m\u001b[38;5;124m'\u001b[39m)\n\u001b[0;32m      2\u001b[0m \u001b[38;5;66;03m# es = EarlyStopping(monitor='val_loss', patience=2, verbose=1)\u001b[39;00m\n\u001b[1;32m----> 3\u001b[0m history \u001b[38;5;241m=\u001b[39m model\u001b[38;5;241m.\u001b[39mfit(x\u001b[38;5;241m=\u001b[39m[encoder_input_train, decoder_input_train], y\u001b[38;5;241m=\u001b[39mdecoder_target_train, \\\n\u001b[0;32m      4\u001b[0m           validation_data\u001b[38;5;241m=\u001b[39m([encoder_input_test, decoder_input_test], decoder_target_test), \\\n\u001b[0;32m      5\u001b[0m           batch_size\u001b[38;5;241m=\u001b[39m\u001b[38;5;241m16\u001b[39m, epochs\u001b[38;5;241m=\u001b[39m\u001b[38;5;241m15\u001b[39m)\n",
      "File \u001b[1;32m~\\anaconda3\\Lib\\site-packages\\keras\\src\\utils\\traceback_utils.py:70\u001b[0m, in \u001b[0;36mfilter_traceback.<locals>.error_handler\u001b[1;34m(*args, **kwargs)\u001b[0m\n\u001b[0;32m     67\u001b[0m     filtered_tb \u001b[38;5;241m=\u001b[39m _process_traceback_frames(e\u001b[38;5;241m.\u001b[39m__traceback__)\n\u001b[0;32m     68\u001b[0m     \u001b[38;5;66;03m# To get the full stack trace, call:\u001b[39;00m\n\u001b[0;32m     69\u001b[0m     \u001b[38;5;66;03m# `tf.debugging.disable_traceback_filtering()`\u001b[39;00m\n\u001b[1;32m---> 70\u001b[0m     \u001b[38;5;28;01mraise\u001b[39;00m e\u001b[38;5;241m.\u001b[39mwith_traceback(filtered_tb) \u001b[38;5;28;01mfrom\u001b[39;00m \u001b[38;5;28;01mNone\u001b[39;00m\n\u001b[0;32m     71\u001b[0m \u001b[38;5;28;01mfinally\u001b[39;00m:\n\u001b[0;32m     72\u001b[0m     \u001b[38;5;28;01mdel\u001b[39;00m filtered_tb\n",
      "File \u001b[1;32m~\\anaconda3\\Lib\\site-packages\\tensorflow\\python\\eager\\execute.py:53\u001b[0m, in \u001b[0;36mquick_execute\u001b[1;34m(op_name, num_outputs, inputs, attrs, ctx, name)\u001b[0m\n\u001b[0;32m     51\u001b[0m \u001b[38;5;28;01mtry\u001b[39;00m:\n\u001b[0;32m     52\u001b[0m   ctx\u001b[38;5;241m.\u001b[39mensure_initialized()\n\u001b[1;32m---> 53\u001b[0m   tensors \u001b[38;5;241m=\u001b[39m pywrap_tfe\u001b[38;5;241m.\u001b[39mTFE_Py_Execute(ctx\u001b[38;5;241m.\u001b[39m_handle, device_name, op_name,\n\u001b[0;32m     54\u001b[0m                                       inputs, attrs, num_outputs)\n\u001b[0;32m     55\u001b[0m \u001b[38;5;28;01mexcept\u001b[39;00m core\u001b[38;5;241m.\u001b[39m_NotOkStatusException \u001b[38;5;28;01mas\u001b[39;00m e:\n\u001b[0;32m     56\u001b[0m   \u001b[38;5;28;01mif\u001b[39;00m name \u001b[38;5;129;01mis\u001b[39;00m \u001b[38;5;129;01mnot\u001b[39;00m \u001b[38;5;28;01mNone\u001b[39;00m:\n",
      "\u001b[1;31mInvalidArgumentError\u001b[0m: Graph execution error:\n\nDetected at node model_24/embedding_30/embedding_lookup defined at (most recent call last):\n  File \"<frozen runpy>\", line 198, in _run_module_as_main\n\n  File \"<frozen runpy>\", line 88, in _run_code\n\n  File \"C:\\Users\\Kimmingee\\anaconda3\\Lib\\site-packages\\ipykernel_launcher.py\", line 17, in <module>\n\n  File \"C:\\Users\\Kimmingee\\anaconda3\\Lib\\site-packages\\traitlets\\config\\application.py\", line 992, in launch_instance\n\n  File \"C:\\Users\\Kimmingee\\anaconda3\\Lib\\site-packages\\ipykernel\\kernelapp.py\", line 736, in start\n\n  File \"C:\\Users\\Kimmingee\\anaconda3\\Lib\\site-packages\\tornado\\platform\\asyncio.py\", line 195, in start\n\n  File \"C:\\Users\\Kimmingee\\anaconda3\\Lib\\asyncio\\base_events.py\", line 607, in run_forever\n\n  File \"C:\\Users\\Kimmingee\\anaconda3\\Lib\\asyncio\\base_events.py\", line 1922, in _run_once\n\n  File \"C:\\Users\\Kimmingee\\anaconda3\\Lib\\asyncio\\events.py\", line 80, in _run\n\n  File \"C:\\Users\\Kimmingee\\anaconda3\\Lib\\site-packages\\ipykernel\\kernelbase.py\", line 516, in dispatch_queue\n\n  File \"C:\\Users\\Kimmingee\\anaconda3\\Lib\\site-packages\\ipykernel\\kernelbase.py\", line 505, in process_one\n\n  File \"C:\\Users\\Kimmingee\\anaconda3\\Lib\\site-packages\\ipykernel\\kernelbase.py\", line 412, in dispatch_shell\n\n  File \"C:\\Users\\Kimmingee\\anaconda3\\Lib\\site-packages\\ipykernel\\kernelbase.py\", line 740, in execute_request\n\n  File \"C:\\Users\\Kimmingee\\anaconda3\\Lib\\site-packages\\ipykernel\\ipkernel.py\", line 422, in do_execute\n\n  File \"C:\\Users\\Kimmingee\\anaconda3\\Lib\\site-packages\\ipykernel\\zmqshell.py\", line 546, in run_cell\n\n  File \"C:\\Users\\Kimmingee\\anaconda3\\Lib\\site-packages\\IPython\\core\\interactiveshell.py\", line 3024, in run_cell\n\n  File \"C:\\Users\\Kimmingee\\anaconda3\\Lib\\site-packages\\IPython\\core\\interactiveshell.py\", line 3079, in _run_cell\n\n  File \"C:\\Users\\Kimmingee\\anaconda3\\Lib\\site-packages\\IPython\\core\\async_helpers.py\", line 129, in _pseudo_sync_runner\n\n  File \"C:\\Users\\Kimmingee\\anaconda3\\Lib\\site-packages\\IPython\\core\\interactiveshell.py\", line 3284, in run_cell_async\n\n  File \"C:\\Users\\Kimmingee\\anaconda3\\Lib\\site-packages\\IPython\\core\\interactiveshell.py\", line 3466, in run_ast_nodes\n\n  File \"C:\\Users\\Kimmingee\\anaconda3\\Lib\\site-packages\\IPython\\core\\interactiveshell.py\", line 3526, in run_code\n\n  File \"C:\\Users\\Kimmingee\\AppData\\Local\\Temp\\ipykernel_3216\\120047783.py\", line 3, in <module>\n\n  File \"C:\\Users\\Kimmingee\\anaconda3\\Lib\\site-packages\\keras\\src\\utils\\traceback_utils.py\", line 65, in error_handler\n\n  File \"C:\\Users\\Kimmingee\\anaconda3\\Lib\\site-packages\\keras\\src\\engine\\training.py\", line 1807, in fit\n\n  File \"C:\\Users\\Kimmingee\\anaconda3\\Lib\\site-packages\\keras\\src\\engine\\training.py\", line 1401, in train_function\n\n  File \"C:\\Users\\Kimmingee\\anaconda3\\Lib\\site-packages\\keras\\src\\engine\\training.py\", line 1384, in step_function\n\n  File \"C:\\Users\\Kimmingee\\anaconda3\\Lib\\site-packages\\keras\\src\\engine\\training.py\", line 1373, in run_step\n\n  File \"C:\\Users\\Kimmingee\\anaconda3\\Lib\\site-packages\\keras\\src\\engine\\training.py\", line 1150, in train_step\n\n  File \"C:\\Users\\Kimmingee\\anaconda3\\Lib\\site-packages\\keras\\src\\utils\\traceback_utils.py\", line 65, in error_handler\n\n  File \"C:\\Users\\Kimmingee\\anaconda3\\Lib\\site-packages\\keras\\src\\engine\\training.py\", line 590, in __call__\n\n  File \"C:\\Users\\Kimmingee\\anaconda3\\Lib\\site-packages\\keras\\src\\utils\\traceback_utils.py\", line 65, in error_handler\n\n  File \"C:\\Users\\Kimmingee\\anaconda3\\Lib\\site-packages\\keras\\src\\engine\\base_layer.py\", line 1149, in __call__\n\n  File \"C:\\Users\\Kimmingee\\anaconda3\\Lib\\site-packages\\keras\\src\\utils\\traceback_utils.py\", line 96, in error_handler\n\n  File \"C:\\Users\\Kimmingee\\anaconda3\\Lib\\site-packages\\keras\\src\\engine\\functional.py\", line 515, in call\n\n  File \"C:\\Users\\Kimmingee\\anaconda3\\Lib\\site-packages\\keras\\src\\engine\\functional.py\", line 672, in _run_internal_graph\n\n  File \"C:\\Users\\Kimmingee\\anaconda3\\Lib\\site-packages\\keras\\src\\utils\\traceback_utils.py\", line 65, in error_handler\n\n  File \"C:\\Users\\Kimmingee\\anaconda3\\Lib\\site-packages\\keras\\src\\engine\\base_layer.py\", line 1149, in __call__\n\n  File \"C:\\Users\\Kimmingee\\anaconda3\\Lib\\site-packages\\keras\\src\\utils\\traceback_utils.py\", line 96, in error_handler\n\n  File \"C:\\Users\\Kimmingee\\anaconda3\\Lib\\site-packages\\keras\\src\\layers\\core\\embedding.py\", line 272, in call\n\nindices[3,6] = 47 is not in [0, 47)\n\t [[{{node model_24/embedding_30/embedding_lookup}}]] [Op:__inference_train_function_161262]"
     ]
    }
   ],
   "source": [
    "model.compile(optimizer='adam', loss='sparse_categorical_crossentropy')\n",
    "# es = EarlyStopping(monitor='val_loss', patience=2, verbose=1)\n",
    "history = model.fit(x=[encoder_input_train, decoder_input_train], y=decoder_target_train, \\\n",
    "          validation_data=([encoder_input_test, decoder_input_test], decoder_target_test), \\\n",
    "          batch_size=16, epochs=15)"
   ]
  },
  {
   "cell_type": "code",
   "execution_count": null,
   "id": "c28c7652",
   "metadata": {},
   "outputs": [],
   "source": []
  }
 ],
 "metadata": {
  "kernelspec": {
   "display_name": "Python 3 (ipykernel)",
   "language": "python",
   "name": "python3"
  },
  "language_info": {
   "codemirror_mode": {
    "name": "ipython",
    "version": 3
   },
   "file_extension": ".py",
   "mimetype": "text/x-python",
   "name": "python",
   "nbconvert_exporter": "python",
   "pygments_lexer": "ipython3",
   "version": "3.11.6"
  }
 },
 "nbformat": 4,
 "nbformat_minor": 5
}
